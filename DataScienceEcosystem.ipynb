{
 "cells": [
  {
   "cell_type": "markdown",
   "id": "c3de98bf-fc0c-46ee-a59b-87a17e582966",
   "metadata": {},
   "source": [
    "# Data Science Tools and Ecosystem"
   ]
  },
  {
   "cell_type": "markdown",
   "id": "7a8f854e-49f7-4b16-a502-841ff0fc2f3b",
   "metadata": {},
   "source": [
    "In this notebook, Data Science Tools and Ecosystem are summarized"
   ]
  },
  {
   "cell_type": "markdown",
   "id": "805ffed8-f3a2-4659-9a8e-f8b153542718",
   "metadata": {},
   "source": [
    "Some of the popular languages that Data Scientists use are:\n",
    "1. Julia\n",
    "2. Python\n",
    "3. R"
   ]
  },
  {
   "cell_type": "markdown",
   "id": "4a3ab513-1745-4c13-8c5e-95bf0c5b8044",
   "metadata": {},
   "source": [
    "__Objectives:__\n",
    "- Create a Jupyter Notebook\n",
    "- Insert code and markdown cells\n",
    "- List popular Data Science Programming Languages\n",
    "- List Data Science Tools for developement\n",
    "- List Commonly Used Libraries\n",
    "- Share your notebook through GitHub\n"
   ]
  },
  {
   "cell_type": "markdown",
   "id": "d32dd125-6c46-4880-b91a-29ead71dea9d",
   "metadata": {},
   "source": [
    "Some of the commonly used libraries used by Data Scientists include:\n",
    "1. NumPy\n",
    "2. Matloplib\n",
    "3. Pandas"
   ]
  },
  {
   "cell_type": "markdown",
   "id": "734db8a9-18f4-4dec-b637-62b64dc4f75e",
   "metadata": {},
   "source": [
    "|Data Science Tools|\n",
    "|------------------|\n",
    "|Jupiter Notebooks|\n",
    "|RStudio|\n",
    "|Zeppelin Notebooks|"
   ]
  },
  {
   "cell_type": "markdown",
   "id": "25bb5fe4-afff-45e3-b6ca-4e6cd55e3cd0",
   "metadata": {},
   "source": [
    "### Below are a few examples of evaluating arithmetic expressions in Python"
   ]
  },
  {
   "cell_type": "code",
   "execution_count": 9,
   "id": "6aa7aeb7-bd0b-487e-8d3c-f5ee1bb6e565",
   "metadata": {},
   "outputs": [
    {
     "data": {
      "text/plain": [
       "17"
      ]
     },
     "execution_count": 9,
     "metadata": {},
     "output_type": "execute_result"
    }
   ],
   "source": [
    "# This a simple arithmetic expression to mutiply then add integers\n",
    "(3*4)+5"
   ]
  },
  {
   "cell_type": "code",
   "execution_count": 11,
   "id": "3ac775cd-d361-406a-8853-4e326b66b600",
   "metadata": {},
   "outputs": [
    {
     "data": {
      "text/plain": [
       "3.3333333333333335"
      ]
     },
     "execution_count": 11,
     "metadata": {},
     "output_type": "execute_result"
    }
   ],
   "source": [
    "#  This will convert 200 minutes to hours by diving by 60\n",
    "200/60"
   ]
  },
  {
   "cell_type": "markdown",
   "id": "e43dd2f4-717f-4d48-8333-6af1743082c8",
   "metadata": {},
   "source": [
    "## Author\n",
    "Minas Nestoridis"
   ]
  },
  {
   "cell_type": "code",
   "execution_count": null,
   "id": "fccbb127-fe6e-4036-a352-74e4ccaa0a19",
   "metadata": {},
   "outputs": [],
   "source": []
  }
 ],
 "metadata": {
  "kernelspec": {
   "display_name": "Python 3 (ipykernel)",
   "language": "python",
   "name": "python3"
  },
  "language_info": {
   "codemirror_mode": {
    "name": "ipython",
    "version": 3
   },
   "file_extension": ".py",
   "mimetype": "text/x-python",
   "name": "python",
   "nbconvert_exporter": "python",
   "pygments_lexer": "ipython3",
   "version": "3.12.7"
  }
 },
 "nbformat": 4,
 "nbformat_minor": 5
}
